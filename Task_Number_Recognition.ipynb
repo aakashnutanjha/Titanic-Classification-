{
 "cells": [
  {
   "cell_type": "markdown",
   "metadata": {
    "id": "UxaQRMhATjn7"
   },
   "source": [
    "# Name : Pranav Bansal"
   ]
  },
  {
   "cell_type": "markdown",
   "metadata": {
    "id": "bC8rLUYQAzAJ"
   },
   "source": [
    "# Handwritten Digit Recognition Using MNIST Dataset With The Help Of Neural Network."
   ]
  },
  {
   "cell_type": "markdown",
   "metadata": {
    "id": "yEwrLyd2BcYq"
   },
   "source": [
    "# Dataset Used : MNIST Dataset"
   ]
  },
  {
   "cell_type": "markdown",
   "metadata": {
    "id": "dboT_BxhTfa5"
   },
   "source": [
    "# About Dataset"
   ]
  },
  {
   "cell_type": "markdown",
   "metadata": {
    "id": "vqKNQwE3T2Rv"
   },
   "source": [
    "MNIST is a commonly used dataset in machine learning and computer vision research, which consists of a set of 70,000 images of handwritten digits (0-9), each of size 28x28 pixels.\n",
    "The dataset is split into two sets: a training set of 60,000 images and a test set of 10,000 images. The training set is used to train a machine learning model, while the test set is used to evaluate the model's performance."
   ]
  },
  {
   "cell_type": "code",
   "execution_count": 26,
   "metadata": {
    "id": "ieahWoNmsihl"
   },
   "outputs": [],
   "source": [
    "# Importing Libraries\n",
    "import numpy as np\n",
    "import pandas as pd\n",
    "import matplotlib.pyplot as plt\n",
    "import seaborn as sns\n",
    "from numpy import unique , argmax\n",
    "\n",
    "# TensorFlow already contain MNIST data set which can be loaded using Keras\n",
    "import tensorflow as tf # installing tenserflow\n",
    "from tensorflow import keras"
   ]
  },
  {
   "cell_type": "code",
   "execution_count": 27,
   "metadata": {
    "id": "MLWgqoSP8BlX"
   },
   "outputs": [],
   "source": [
    "# To Load the MNIST dataset from the Keras API provided by TensorFlow.\n",
    "mnist = tf.keras.datasets.mnist"
   ]
  },
  {
   "cell_type": "markdown",
   "metadata": {
    "id": "o4_zAVHZUwwR"
   },
   "source": [
    "The Above Code Reflects that the Dataset Contains :\n",
    "\n",
    "1. An array of 60,000 images, each represented as a 28x28 NumPy array, with pixel values ranging from 0 to 255.\n",
    "2. An array of 60,000 labels, each representing the correct digit (0-9) for the 1.\n",
    "3. An array of 10,000 images, each represented as a 28x28 NumPy array, with pixel values ranging from 0 to 255.\n",
    "4.  An array of 10,000 labels, each representing the correct digit (0-9) for the 3."
   ]
  },
  {
   "cell_type": "markdown",
   "metadata": {
    "id": "rAIe08hFJ02A"
   },
   "source": [
    "# Dividing the data into train and test data."
   ]
  },
  {
   "cell_type": "code",
   "execution_count": 28,
   "metadata": {
    "id": "VeB1nqygJwN2"
   },
   "outputs": [],
   "source": [
    "(x_train, y_train), (x_test, y_test) = mnist.load_data()"
   ]
  },
  {
   "cell_type": "code",
   "execution_count": 29,
   "metadata": {
    "colab": {
     "base_uri": "https://localhost:8080/"
    },
    "id": "pD36dm78DGxW",
    "outputId": "c9948824-bbd1-4c43-baee-09732b0fdf2c"
   },
   "outputs": [
    {
     "name": "stdout",
     "output_type": "stream",
     "text": [
      "(60000, 28, 28)\n",
      "(60000,)\n",
      "(10000, 28, 28)\n",
      "(10000,)\n"
     ]
    }
   ],
   "source": [
    "print(x_train.shape)\n",
    "print(y_train.shape)\n",
    "print(x_test.shape)\n",
    "print(y_test.shape)"
   ]
  },
  {
   "cell_type": "code",
   "execution_count": 30,
   "metadata": {
    "colab": {
     "base_uri": "https://localhost:8080/"
    },
    "id": "z3hDselGDXl0",
    "outputId": "ef3fc442-6f12-4511-819c-1269de0c6037"
   },
   "outputs": [
    {
     "name": "stdout",
     "output_type": "stream",
     "text": [
      "[[[0 0 0 ... 0 0 0]\n",
      "  [0 0 0 ... 0 0 0]\n",
      "  [0 0 0 ... 0 0 0]\n",
      "  ...\n",
      "  [0 0 0 ... 0 0 0]\n",
      "  [0 0 0 ... 0 0 0]\n",
      "  [0 0 0 ... 0 0 0]]\n",
      "\n",
      " [[0 0 0 ... 0 0 0]\n",
      "  [0 0 0 ... 0 0 0]\n",
      "  [0 0 0 ... 0 0 0]\n",
      "  ...\n",
      "  [0 0 0 ... 0 0 0]\n",
      "  [0 0 0 ... 0 0 0]\n",
      "  [0 0 0 ... 0 0 0]]\n",
      "\n",
      " [[0 0 0 ... 0 0 0]\n",
      "  [0 0 0 ... 0 0 0]\n",
      "  [0 0 0 ... 0 0 0]\n",
      "  ...\n",
      "  [0 0 0 ... 0 0 0]\n",
      "  [0 0 0 ... 0 0 0]\n",
      "  [0 0 0 ... 0 0 0]]\n",
      "\n",
      " ...\n",
      "\n",
      " [[0 0 0 ... 0 0 0]\n",
      "  [0 0 0 ... 0 0 0]\n",
      "  [0 0 0 ... 0 0 0]\n",
      "  ...\n",
      "  [0 0 0 ... 0 0 0]\n",
      "  [0 0 0 ... 0 0 0]\n",
      "  [0 0 0 ... 0 0 0]]\n",
      "\n",
      " [[0 0 0 ... 0 0 0]\n",
      "  [0 0 0 ... 0 0 0]\n",
      "  [0 0 0 ... 0 0 0]\n",
      "  ...\n",
      "  [0 0 0 ... 0 0 0]\n",
      "  [0 0 0 ... 0 0 0]\n",
      "  [0 0 0 ... 0 0 0]]\n",
      "\n",
      " [[0 0 0 ... 0 0 0]\n",
      "  [0 0 0 ... 0 0 0]\n",
      "  [0 0 0 ... 0 0 0]\n",
      "  ...\n",
      "  [0 0 0 ... 0 0 0]\n",
      "  [0 0 0 ... 0 0 0]\n",
      "  [0 0 0 ... 0 0 0]]]\n"
     ]
    }
   ],
   "source": [
    "print(x_train)"
   ]
  },
  {
   "cell_type": "code",
   "execution_count": 31,
   "metadata": {
    "colab": {
     "base_uri": "https://localhost:8080/"
    },
    "id": "0M_e6959VAhp",
    "outputId": "613f6375-da7d-4d2d-9301-d410a30ca2a8"
   },
   "outputs": [
    {
     "name": "stdout",
     "output_type": "stream",
     "text": [
      "[[[0 0 0 ... 0 0 0]\n",
      "  [0 0 0 ... 0 0 0]\n",
      "  [0 0 0 ... 0 0 0]\n",
      "  ...\n",
      "  [0 0 0 ... 0 0 0]\n",
      "  [0 0 0 ... 0 0 0]\n",
      "  [0 0 0 ... 0 0 0]]\n",
      "\n",
      " [[0 0 0 ... 0 0 0]\n",
      "  [0 0 0 ... 0 0 0]\n",
      "  [0 0 0 ... 0 0 0]\n",
      "  ...\n",
      "  [0 0 0 ... 0 0 0]\n",
      "  [0 0 0 ... 0 0 0]\n",
      "  [0 0 0 ... 0 0 0]]\n",
      "\n",
      " [[0 0 0 ... 0 0 0]\n",
      "  [0 0 0 ... 0 0 0]\n",
      "  [0 0 0 ... 0 0 0]\n",
      "  ...\n",
      "  [0 0 0 ... 0 0 0]\n",
      "  [0 0 0 ... 0 0 0]\n",
      "  [0 0 0 ... 0 0 0]]\n",
      "\n",
      " ...\n",
      "\n",
      " [[0 0 0 ... 0 0 0]\n",
      "  [0 0 0 ... 0 0 0]\n",
      "  [0 0 0 ... 0 0 0]\n",
      "  ...\n",
      "  [0 0 0 ... 0 0 0]\n",
      "  [0 0 0 ... 0 0 0]\n",
      "  [0 0 0 ... 0 0 0]]\n",
      "\n",
      " [[0 0 0 ... 0 0 0]\n",
      "  [0 0 0 ... 0 0 0]\n",
      "  [0 0 0 ... 0 0 0]\n",
      "  ...\n",
      "  [0 0 0 ... 0 0 0]\n",
      "  [0 0 0 ... 0 0 0]\n",
      "  [0 0 0 ... 0 0 0]]\n",
      "\n",
      " [[0 0 0 ... 0 0 0]\n",
      "  [0 0 0 ... 0 0 0]\n",
      "  [0 0 0 ... 0 0 0]\n",
      "  ...\n",
      "  [0 0 0 ... 0 0 0]\n",
      "  [0 0 0 ... 0 0 0]\n",
      "  [0 0 0 ... 0 0 0]]]\n"
     ]
    }
   ],
   "source": [
    "print(x_test)"
   ]
  },
  {
   "cell_type": "code",
   "execution_count": 32,
   "metadata": {
    "colab": {
     "base_uri": "https://localhost:8080/"
    },
    "id": "k1cDS-mwDebm",
    "outputId": "cb837b47-1e8a-4643-c1d0-aa881652fe6e"
   },
   "outputs": [
    {
     "name": "stdout",
     "output_type": "stream",
     "text": [
      "(60000, 28, 28, 1)\n",
      "(10000, 28, 28, 1)\n",
      "uint8\n",
      "uint8\n"
     ]
    }
   ],
   "source": [
    "# Reshaping the input Data which is used as a input in CNN in Tenserflow\n",
    "# CNN takes the input Data in 4D Format with the shape (num_samples, image_height, image_width, num_channels)\n",
    "# Here (num_channels) is set to 1 which means input image is Grayscale.\n",
    "\n",
    "x_train = x_train.reshape((x_train.shape[0] , x_train.shape[1] , x_train.shape[2],1))\n",
    "x_test = x_test.reshape((x_test.shape[0] , x_test.shape[1] , x_test.shape[2],1))\n",
    "print(x_train.shape)\n",
    "print(x_test.shape)\n",
    "print(x_train.dtype)\n",
    "print(x_test.dtype)"
   ]
  },
  {
   "cell_type": "code",
   "execution_count": 33,
   "metadata": {
    "colab": {
     "base_uri": "https://localhost:8080/"
    },
    "id": "03cEBHDdMfin",
    "outputId": "c670777d-98f1-4db3-c1a7-25bc9597e22b"
   },
   "outputs": [
    {
     "name": "stdout",
     "output_type": "stream",
     "text": [
      "float32\n",
      "float32\n"
     ]
    }
   ],
   "source": [
    "# Normalizing Pixel Values\n",
    "\n",
    "x_train = x_train.astype('float32')/255.0\n",
    "x_test = x_test.astype('float32')/255.0\n",
    "print(x_train.dtype)\n",
    "print(x_test.dtype)"
   ]
  },
  {
   "cell_type": "code",
   "execution_count": 34,
   "metadata": {
    "colab": {
     "base_uri": "https://localhost:8080/",
     "height": 218
    },
    "id": "3IQpTDt7MfmB",
    "outputId": "93487693-95ec-499d-b31e-74ea68c749fc"
   },
   "outputs": [
    {
     "data": {
      "image/png": "iVBORw0KGgoAAAANSUhEUgAAAZcAAADJCAYAAADvlX8+AAAAOXRFWHRTb2Z0d2FyZQBNYXRwbG90bGliIHZlcnNpb24zLjcuMSwgaHR0cHM6Ly9tYXRwbG90bGliLm9yZy/bCgiHAAAACXBIWXMAAA9hAAAPYQGoP6dpAABVSklEQVR4nO3dd5hU5d3/8ff0tr13trG7sCy9S7EgIgo27MaaqIn9MTGPSYzGhMQYk2g0Rs0vlhh7pShGUVCk977sso3tvczOTj/374+BlaZBmJkzPrlf17XXpWcWzoczM+d7zt2ORgghkCRJkqQg0qodQJIkSfq/RxYXSZIkKehkcZEkSZKCThYXSZIkKehkcZEkSZKCThYXSZIkKehkcZEkSZKCThYXSZIkKehkcZEkSZKCThYXSZIkKehCVlxWrlyJRqM57s+6detCtdtvxe1289Of/pSMjAwsFguTJk3ik08+UTvWcS1cuBCNRsOIESPUjkJ/fz8PPvggc+bMISEhAY1Gw4svvqh2rEGbN29mzpw5xMTEEB0dzezZs9m2bZvasdi4cSO33347paWl2Gw2cnJyuOyyy6ioqFA7GhDZ7+vu3bu59NJLyc/Px2q1kpSUxIwZM1iyZIna0YDIPnbHE47ziT5kf/NBd955JxMmTDhiW2FhYah3e0Kuv/563n77be6++26GDh3Kiy++yNy5c1mxYgXTpk1TO96ghoYGfvvb32Kz2dSOAkBHRwcPP/wwOTk5jBo1ipUrV6odadCWLVuYNm0a2dnZPPjggyiKwtNPP83MmTPZsGEDxcXFqmX7/e9/z+rVq7n00ksZOXIkLS0tPPXUU4wdO5Z169apfuEQye9rXV0ddrud6667joyMDAYGBnjnnXeYP38+zz77LDfffLOq+SL52B0tbOcTESIrVqwQgHjrrbdCtYtTsn79egGIP/zhD4PbnE6nKCgoEFOmTFEx2bEuv/xyceaZZ4qZM2eK0tJSteMIl8slmpubhRBCbNy4UQDihRdeUDfUQXPnzhXx8fGio6NjcFtTU5OIiooSF198sYrJhFi9erVwu91HbKuoqBAmk0lcffXVKqX6SiS/r8fj8/nEqFGjRHFxsdpRvlPHLlznk7D0udjtdnw+Xzh2dcLefvttdDrdEVc8ZrOZm266ibVr11JfX69iuq988cUXvP322zz++ONqRxlkMplIS0tTO8ZxrVq1ilmzZpGYmDi4LT09nZkzZ7J06VL6+/tVyzZ16lSMRuMR24YOHUppaSl79+5VKdVXIvl9PR6dTkd2djY9PT1qR/nOHLtwnk9CXlxuuOEGYmJiMJvNnHHGGWzatCnUuzwhW7dupaioiJiYmCO2T5w4ESAi2uj9fj933HEH3//+9ykrK1M7zneC2+3GYrEcs91qteLxeNi1a5cKqb6eEILW1laSkpLUjvKd4HA46OjooKqqij//+c8sW7aMs846S+1Y3wnhPp+ErM/FaDRyySWXMHfuXJKSktizZw+PPfYY06dPZ82aNYwZMyZUuz4hzc3NpKenH7P90LampqZwRzrGM888Q11dHcuXL1c7yndGcXEx69atw+/3o9PpAPB4PKxfvx6AxsZGNeMd45VXXqGxsZGHH35Y7SjfCffeey/PPvssAFqtlosvvpinnnpK5VTfDeE+n4SsuEydOpWpU6cO/v/8+fNZsGABI0eO5P777+ejjz4K1a5PiNPpxGQyHbPdbDYPvq6mzs5OfvnLX/LAAw+QnJysapbvkh/96Ef88Ic/5KabbuK+++5DURR+85vf0NzcDKj/vh6uvLyc2267jSlTpnDdddepHec74e6772bBggU0NTXx5ptv4vf78Xg8aseKeGqcT8I6z6WwsJALLriAFStW4Pf7w7nrY1gsFtxu9zHbXS7X4Otq+sUvfkFCQgJ33HGHqjm+a2699VZ+9rOf8eqrr1JaWkpZWRlVVVXcd999AERFRamcMKClpYXzzjuP2NjYwf4/6T8rKSlh1qxZXHvttYN9aPPmzUPIB+p+IzXOJ2GfRJmdnY3H48HhcIR710dIT08fvJo93KFtGRkZ4Y40qLKykueee44777yTpqYmamtrqa2txeVy4fV6qa2tpaurS7V8kW7hwoW0trayatUqduzYwcaNG1EUBYCioiKV00Fvby/nnnsuPT09fPTRR6p+1r7rFixYwMaNGyNmrlAkUut8EvbiUl1djdlsVv0KcvTo0VRUVNDX13fE9kNt86NHj1YhVUBjYyOKonDnnXeSl5c3+LN+/XoqKirIy8uTbfT/QXx8PNOmTRvsuFy+fDlZWVmUlJSomsvlcjFv3jwqKipYunQpw4cPVzXPd92hZs7e3l6Vk0Qutc4nIetzaW9vP6Ztb/v27SxevJhzzz0XrVbdlWcWLFjAY489xnPPPcePf/xjIDDS6IUXXmDSpElkZ2erlm3EiBG89957x2z/xS9+gd1u54knnqCgoECFZN9Nb7zxBhs3buSxxx5T9XPn9/u5/PLLWbt2LYsWLWLKlCmqZfmuaWtrIyUl5YhtXq+Xf/7zn1gsFlmkv4Fa55OQFZfLL78ci8XC1KlTSUlJYc+ePTz33HNYrVYeeeSRUO32hE2aNIlLL72U+++/n7a2NgoLC3nppZeora3lH//4h6rZkpKSuPDCC4/Zfmhs+vFeC7ennnqKnp6ewVF1S5YsoaGhAYA77riD2NhYVXJ98cUXPPzww8yePZvExETWrVvHCy+8wJw5c7jrrrtUyXTIvffey+LFi5k3bx5dXV3861//OuL1a665RqVkX4nU9/WWW26hr6+PGTNmkJmZSUtLC6+88grl5eX88Y9/VL0lBCL32Kl2PgnV7MwnnnhCTJw4USQkJAi9Xi/S09PFNddcIyorK0O1y2/N6XSKH//4xyItLU2YTCYxYcIE8dFHH6kd62tFygx9IYQYMmSIAI77U1NTo1qu/fv3i9mzZ4ukpCRhMplESUmJ+N3vfnfMzHg1zJw582uPWQi/it9KpL6vr732mpg1a5ZITU0Ver1exMfHi1mzZolFixaplulokXrsvk6ozycaIeQwC0mSJCm45JL7kiRJUtDJ4iJJkiQFnSwukiRJUtDJ4iJJkiQFnSwukiRJUtDJ4iJJkiQF3QlNolQUhaamJqKjo9FoNKHOdFxCCOx2OxkZGUfMso7kbJGeL5KzRUK+SM72TfkiOVuk54vkbJGQ75uyHe+X/6P6+vpvnPwVzp/6+vrvTLZIzxfJ2SIpXyRnk++rPHaRku1oJ3TnEh0dDcD+mnqij3pyY7jY+/oozMsezHJIJGeDyM4XydlA/XyRnA3k+3oq5LE7Od+U7WgnVFwO3X5Fx8Qc81jgcDv6VjCSsx2+LRLzRXK2w7epnS+Ssx2e5ej/j8Rsh2+LxHyRnO3wbWrnO5EmOdmhL0mSJAVdyFZF/q7xKwKXx0+Xw0OPw0u0RU+c1YDNpMeglzVY+u/Q0uOi2+FBCIi26EmLNcvP/38hRRHUtAce6JiZYMFs+PZPSg1LcRGHrY0pBHj9CoLAP8B48IPr9in4/AKNBox6LUadFq02PKMhhBDYnV52NPby8IflbH7jPYaeO5fb5hZyZl4K2YnWsOQ4GUIIvH6Bx6dgNerCdsy+icen4PUp+BSBTqvBbNCi18kT1Nc59P3w+gVCCPQ6LToV3kdFEfzy3/t467Uvwe1g/JypvHzdeNLizGHPcjyKIgbPG16/gtcvjvt7Oq0GvVaD2Rj+R0f7D2ZDoMr+g0FRBHaXj/P+sBKDQceS/5lBbrLtW/89IS8uiiJwevz4lMAHwe3189iqGuxOL+UHuvnZ3BI8isIvXt9B7UdLwBzFlXddzUNnDyUlNjwf6q5+D0vKm7nn/pehvxOAyg+XcveKGBbccgl/v2JUWHKcjHa7h2UVzdz96Kdse/pKshMsqheY5zfU8psXNuDYvhp90XiWL7yAUUPiVM0UqQ7dMTu9fpbta6G6y8WVZRnkp9jCXpBb+9y8u2grtNeCz8P+ilaaup0RUVyEEDR0OfErgm0t3Sx8dy9VHywC7bEncE3eKC68YCzPXTYyrMfQ51eoaR/gqbV19A54ePHqMWHbdzB12N3c9d4uWtd/ydSrLsBwkscwqMWlz+llwO1nwONnc1MX721vo8vuYv2qcmirC/ySUMDnCfx3ch4/7nJi7x2ge9s6iEkmccQoLitLw2YKT4vdgY4BFn62nzdf+RzsHaDRQFQiGEzg6KayoYeq1n6GJFmD9kF1uHzsb+2n0+lhZlHyKV2l9jg8bG1wUDIqLyjZTtV7Oxp44OlV+Or2glaHRqNRbb5AJOvs9/BFdRt///IAe3Y20Vu+A/xeEIIPZ5/Nry4Zzpzh6WHNFGc1MG7KUDb0dEBnfVj3/XX6XT5q2x08vf4Aby/ailAEvrZ6cHQft7AAiLpdvPdaP16fwjOXjQzbuWTA42fBk19yYOMWRpw1lR6HhzibMSz7DpY9DX388t/lfPqvpaA3ctmEdKLMJ3f8gnbUm7qd/Hp5Jcs+q8A14MI94IT+bvD7Ah+EQwXlEI2GS6+YytjswJA29+WjyI41kWmzUpoZgyXEt5Rur5+GLic/XrybLz7bAx0HBl+zDinkygtH8/ay3Wz/eDVzm/t46JpRXDkmJyj7dnj8fLC/jZ31fUwvTDrp4iKEYMDtZ39LHx3t9iOaH9Wyq3UAX+9x3u8wq213sLK2neV7O9lX001rUxcajYZHbplEps3Cvq5+kqwGxmcmhLXZs6nbyT+3NPDm5zUc2N+Ev7MZ3A6ISUEXFYO/vpyKTXt4a2gi47ISSI4xhS2bSa8lNzWaDRb1n+p4SG27g3ve3cmmTzZCb2vg4tTvA8Uf+IXjXbgIBTrrWfr+BhrOGkphWlRYmhmFAI/HD31ttLf30+v0feeKS5vDzc7dreBxkjj+NM4dmqZ+cTHptXQ7PPRWV0JPy7G/EJeGPjkDnU6Hu3Ir6I3cND6brHgLGg1oNRpMBi0GnRabSRfSq12/Inh5ywH+teoA29dXQEvVESfDgZYm0qInkJObxM76BtrKK/h4b1bQiku/y8c7X9SSlGTjVMqBy6uwvaOHbZvryC1IJSnadNzvWjj4/Ar1nU7e+LQK+rsgNpX8SWO47bwi0mLDd4IUQlDeZOeBj8rZtqOJzqZ2cDsxxMbh7XfwwItbsFhN2HsdZGQlcMvsfK5LzA1pJr8i6B3w8kllCy+tbWDH1gM4aioDF116I7rsEh66bQZa4Oe/74OuRg609uNw+0gmfMfO41do7HKA2xm2ff4nBp0Wm8UAHQdbPqISSRk5mphYC0KIwfNEfU0L7qpd4HUFfs/vha4m3D4l/KH9PnxeH35F/Yu9wzV2OVlzoIOi+GiGZcYM9ncf/vry6k7am9ohfSj/e9Uo4m3Gky7MQSsuNrOeGUMT2Dt+DC317dhibHRv/DzwYnQS+ZPHcdaEbMx6LZ9ty6S2qpWcRCvpYW7PVRRBz4CXP7+7l6Y1X4DHCVEJkDGUqNgo+revAUc3sWYdp41Io719KC07dtDW6wpaBrfXz4GqZpKSCk/p76lpc/DellYcjQ0UnVly0lcYp8rrU2i3u/nr+gM0bt4MbgeJI8dy0+xCLi3LDPld6CE+v0LvgJffr6zi0/fXgBBEZWRQNKyYycUptNvdvPX2BmiqAJ8Hr3syNZ2ZIc814Paxv62fX722i+YNa8DVH3jBaMGUV8rF80bxvTHZ9Dm9PGCLRmlz4XR68YT5xOj2KtTX9w7m83q8tDldOD3+sL2HR0uMNnLT1Gx6+i4CIDbaxLzRqaRHBc4bGgJTxr+sy+KZ5weguTJQWAxmTDlFxFj0qHG9JYRAibDi8u6eJv7fskoumJ7HXQkWEqOPvHDZ0tTNxxsbEC4nk88ew7ySdPS6kz96QTsbmQ065halkhJlZEO9nXGZNm6t3Ae9rcQOHcY984u5fFQ2Wq2GH0zI5ok1dVjD/IE9NApibW0HTZs3B65yzFHEDytj8oQhFKVF8URTE8lDCxifFs+UTA2NXQMs2bqFvj43bq8f00kMyTtcYDSJwOf1nfK/583dzaxbXQkmG2Oy//OM2VBxuH2sq+/kH898GLhrMUdx1mn5zC5IIdpiCEsGr0+hy+Hh85p2Fv2/90CjIW/aadwwu4B5xWlkxlvodXpZs7WJxvY6EAoJKXFMyY4NebbOfg//2t5E8xcfBzbojWCyYcou4NzZpfxmTjGxVgNd/R5VmzYVIfD5lECzEuDodbB4TwdFSTHkJVtV6TtLjDIypySNqUMSgcBIsCiz/pj+z8k5Cbz173I6Ow4EiostnrGT8slSY4CLRoPiV3B6/OHd73/w5Du7ad+2ie05cfSMyTyiuHh9Cu9sb6Vy/XY00fH8+KwCUk9xQFVQL3Vzk21kJVg4b5jAoNPw5qVn8dnLi5h7VjGTMxMHx8tnJ1p5bN6wYO76hNhdPtbVdvK9e54PjArTaEkeO4nfXDeG0/OS2dXch/7u8/jR5FxirQZ0Wg1T8+NY0t/JrpUbqL5mLEXp0afUfts74GV3Zy90NgElp/Tv6XP5cbvcGKOjmJWXfEp/16no7Pfw10+rB/utkkeP5wfjsylMC0/bvaIImnpc/G19Hc/++lnQGcg9cxb//MEkitOjMei1uLx+Pq5soXHVZ4GTT9IQpozOYGpeYsjzdfV7WLGhHnQG0OrQDxlG4bBs7pxbyJyiNOIPtsvXdjsQXvX6quJtRm6aW8Rv69vw93fBgZ289lwrw9Ov4EdJeao0uWo0Ggx6zTFX2YfzK4I1dZ10t3WD1x3YaLSQnxaj2hB4Z7+TbW09lOWE/uLlRPgVgcGoB50BvxDHNNnVdzmpqOuGvna0sYl4lVO/aw56O4pep0WvCzRRJEabQKtjycd7mFkQS0GqTbWRQ139HtbWdfKrd3ZDXzskZmNJy+Da80qYmJlASqyZM2PNnFmScuwfFgLsHdz59g6W/HAKulO442rpcfHOlhZw2U/hXxMoUvtb+qCjAX1u0Td++ULJ5fFT3mFny+vvBEbvxKay8Lox5KV8+3HxJ+vTfW388t3dlC9eBHoj5958BU9cNIKEqK/ai50eP/c8/kWgsAAXXX0G980sCMud1fCsGBbdM4Onp+Zy7agM0uPMxFkNx0xObOx3gs8b8jzf5H9mFvLiv/dTX6VqjBPm9vpZVt7Cg6/vRGmpGXx/YzLS+f15p3bx9m3ptRqiokxgsuEecLK10cH3xoc1wnH5FcG9i/fQtGkjJGYxbWgSGfGWwdddHj8Pf1LB3u01EJ/BxGlFzCpOPeX9hqyRXq/T8sh5w9iydzpVG7bz2sZcxqUnhO1q9nA+v8K7uxv5wxu7aNuyHuLS+OejV1GWGotRryX6RPoqFD/19T0op9hs0e3ycKCxD3QGxhYkcrI3QQ8vr2TdlxWg1ZGRk4zFEP4rtG6Hh5c21/PHf20a3Lbg+jmcUZBCvDU8zWFvbqvnwVd20LJhDcSmUjR9En9dUEasxYBWq8GvCHocHlbVduCprwQhmH7jlfx4ej65yeEZJWY26BiSZOXX5xRh0GnQajTHbar5YGf7V/0xKhJCHGwa0w42kUWamjYHb+9u5tn3d9FZuT8wjeBQZ35CFvlDU8I+EdVq0jGhNJWafSX4vepeJBzi8yu09bl56dV14HVxx43TuGpUJjbTVxfId72/m0VvfgleNxd9bxZPXjQiKHd8Ie0BjrMaeOp7Y7m6s591qyu5dcDD2SPTGJsew1nFKWFrC23pdfP+1hbadmyDmBR+/dPzmZGfPNjnc6I5RBA66IQAv18BnZ7Tc+NO+E5OUQQDHj+VLf28vL2J197fire+goSycdw2t1CVDte69gGWbW+hv3I3GEzEj57MT2bmD57YQ83p8fPMZzW07N4L0UmUzRjDC9eNH9x/74CXz/a38tfPatizox7cDlKnn81Ds4vJCeK8pROh02qOeI92HOjlQJ8Dr6IMjhjcta89MMAkazjjS1LIPOzqMpw0Gg1oImNFBbfXT4fdw+oDHSzb0zG4fW91F/v31ONvrg4UZKGAOYriWWdw0dQc5hQkYwxzk5hGo8Gg06KJgFUyIDCQpLZ9gFtf3QLNlRSfczaXlaaRGmtCo9Hg9vr5eF8rb727CTrrKZ5zDleOTscWpIFBIS0uWq2GEZmxXDl3GG/8ex+bV+2msryF5LQ4nrtuPAWpUdhMupB/yT/Y18Ku7Y0gFNJLCllQmkHst7myPnj1FuzO1qM//G6vn36XDwE0d7vo83jx+gV1dgflbS7sLh9VzX10dTlxtTSCx0lqeiyTMhLC3rZc3znA0+vr2L65BoSCpWg0P/vemIMn7fB8uTw+hdrqDuhtJWnCNO49dyjpcWZ21veyu7OXTfUOVmyqp3bTduhuAo2W+acXMCTZdsSVW7j4/ArdDi/rD3TyzJd1NDT04fcrCBGYrtFQXgsGM6fNKuOqkelYVcgIh00dUbnIONw+9rf089d1dXy5uZHm2uavXuxuDjRvH3ZxZhpSwrVn5DF/WDqJUUZ1V6pQ/PS71Ll7EULQ2utmY0MXT35Wzc7la8DjRFEE5V12EqKMJEeb6HX6+NsXtYiGcsxDR3H9mXmMzAheH1HIx65GmfXcOC4bIeD1ZQpdFeX0bW3hl2lR3HdmIcPTY4izGkJ2cuxxeHjxs5rA/JukLCaNTv/2y1kcLCpR0eZT7jPSaAg8wc3v44OKThLMX/ULdDk97O3sx6sIVuztoKvXiV6vo7nZTldbN5YoC8kpMUwakUrFzkTo7yI+3hK2ZXIOcXv9vLS1gcXLduLevwNiUxlWlsXlI7NOaoG7U6H4A6ObdHodfiH4pKKVF9Y2sHlTLf3NzYG5JJ6D8zaMFq4uSycqxPOojub1KfS5fJS39LGlpZdnl1bQuHNPoPNZq4Oe5sHPGEk5TCpIJDNOnbuWSOJw+1lR18lbr6+BpvJjf+FQ091BRrOR3DgLiVFG1YZODxroo7q5T5Vddzm8rKhp44+L9lG1bGlgwqktjpqKRh5fpqN5mpspGQlU9drZtHY/6I1cfP5I5gxNPeURYocLy8SI/BQbP5mZz6yCBO5/K4Z9X6xn9Quvc3/3hfxsfgmTcxJC1iG9s6mX6n2N0N9F0rDhXFh2nA77r+H2+un3BJqwsMQweWT6SfeRHGLT60lKsrLfYOYfz37Em5mZg48LtffYUZr2g9ECJhu6mHhSs1MoKkxkwtkFTM6MY2RmLBaDjiXL99HTbiQhykRiVPhmAQshaOx28cc/vg9djYGN1hiGDUkI27DjQ/Q6DWmZ8fRWJ9H65XJuWvXJwWG+VrDEYEpKRYlLwNvdCV0NkJZPaVZ4RxB5fArtfW4+q27jzocXwUAvRCdhTkkjc0igabjy89WBIgjg97FyVwsTM2NIUOkkOXiDfrDvxelRp99Fp4EYsw5LfCzOvgQwHTZI5PC+IFc/DPRi37aa93cVU5IcQ34YB5QczmTQotPp8PW0sH1TNTA9rPv3+BRW1bTz0MvbaVu7IrCMVXQS8QWFdO/exu6q7fxybR7mhARc7W2ByakJWdw+eQhpceYjJqaeqrDNuouzGZlemMQHd0/n0/OLuOX2J9nz/vv8oHIS910/ibtnFIRkvwNeP16PF6yxlA5PY2b+iQ3Z9foUPtjbzCufVkFUIsWnT+WxecNOeZ7L6Nw4XrpmLH/JT+DTLU1HvJaelUDM1CKuOy2LkclxlGREH/dE+OLGWnrqDoAtnuSY8N61+BXBT5fuCXyhD67tlJabwf+eHpr375vYTHpe+cEkfhRrZsP7y8HrwpRXyvy5Zdw7PZ94m4HXdjTyh5c24hjo4cILxob1jsXnV6hpc/C7FftZ9ORLoDdyy/03cNnwNIrSo9HrNGyu6+aS6hbc5QcHRfQ0s+WNd/nfrnN58tpxTMxLOGYmdagNduhrtOBx8sHmRu6ZkY82zNMRE6NNXDk6m5m/m8/L2xq5fEQ6Rr32iPfQ7fXz+5VVLPrrv0Dxq76O3el5cXySk0xthTr7/2RfKzcu/DeioRxs8cQWDePdn5xFtMXAtf+Io/zLTdBahatlf+APaDTQ1cDUW5/n0Z9fwKVlmUFbsiasU7r1Oi2JUUYuGZnFLQYzeN04yzfz7roMzi1MoTgjhBMB9Ubio4wndOC8PoW/rqnhT69sxl61j+SyUfz5itFYg7QAXkqsmV+dU8xDs4uO+7pWowk0dx/niyKE4LV1jeDso3DGaZwzNCEomU6Ex6dQ1drPiuW7B5uazCXjmDczMFlNDfkpNj740RTED6cADB43rQaq2xx8vKsNx47VEJvK6OyYsJ0efX6Fv62t4U+vbaNn6xqwxVN8xjTuP6OQKLM+MBhhbS2PPL82UFgMZq6862r21nWxbe0+apf/m3mbtjN8xgSevGI0UWY9Go2GpGjj4LyYUNFqD+trcTvY/t5Saq8Zx5Aka9if7WIx6shPsfHA2UXHbTUQAp64aASLnjF8td6YijKjLMTGmkEo+NweWnpcYV1V+qG3d6M36Dnz+5fx4xkFjB4SO9js/trNk7gzycqqT3ZA/e4j/lzxpDImZyQEdS20sBWX3gEvBzoG+KCyjbX7OwOL9QGk5DO2KJkhIR4WmjJsGKcXxX/j7/j8Cg1dThZ+up93F20hOj6a2+69lDum5hIb5CafwBt+cqc6RQlcWU4oTaU4OXwz8zvsbmb/ahn++nJQ/OgLRnHrleP50eTcsGU4mkaj+doBBF7/wRnnGi2Yo1hQmhGWTl5FEfzly2oefWEd7oYa4seexi0Xl3F5WQbRZj0HOgdY+Ol+PvxkD+7GWmwjJvPn209j1tBUHG4/FecNY9Hedj7bcIA9q7dx1pb9oNUSmxjLEz+cwgVloV2y5oLpeTzfOgXHrnWBDX4vf1lby6/PKSZWhQeHaTQavm6MiNevsKW+O2KGTB8xzFzxB57tEkbzp+Yw6+oxDEm0khBlPKLlY8Dtp7auBzobMJVM4Bc3T2VUSuD8kRVrJTXIawCGvLh09nvY3tDD4vJ21u1qoa6qBVdXV2BlU40GU1wsWXGmkHUECwIPYOps6WRv69cvyNfj8LCmtpNHPtjHri3VJKQmcNelZVw4LD2onVzBZDXpw9pk4vUL+vduHVzkc8LUoZw/NIWEMPb5fBvpcWYykw62vWu0YRkh5vMrbKrt5onXtuJurCVv6iRumF3A7PwUBtx+nlxdzTtr6
